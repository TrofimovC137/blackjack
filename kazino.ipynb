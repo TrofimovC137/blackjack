{
 "cells": [
  {
   "cell_type": "code",
   "execution_count": 1,
   "metadata": {},
   "outputs": [],
   "source": [
    "import numpy as np\n",
    "import pandas as pd\n",
    "import matplotlib.pyplot as plt\n",
    "\n",
    "from tqdm import tqdm"
   ]
  },
  {
   "cell_type": "code",
   "execution_count": 2,
   "metadata": {},
   "outputs": [],
   "source": [
    "class Agent():\n",
    "    def __init__(self):\n",
    "        self.sum = 0\n",
    "        self.num_of_ace = 0\n",
    "        self.full_sum = 0\n",
    "        self.dealer_show = 0\n",
    "        self.usable_ace = False\n",
    "        self.game_way = []\n",
    "        self.Q = {'player_sum':[],'dealer_show':[], 'usable_ace':[], 'action':[], 'G':[], 'value':[], 'num_of_visit':[]}\n",
    "        for player_sum in range(4, 22):\n",
    "            for dealer_show in range(2, 12):\n",
    "                for usable_ace in [True, False]:\n",
    "                    for action in [0, 1]:\n",
    "                        self.Q['player_sum'].append(player_sum)\n",
    "                        self.Q['dealer_show'].append(dealer_show)\n",
    "                        self.Q['usable_ace'].append(usable_ace)\n",
    "                        self.Q['action'].append(action)\n",
    "                        self.Q['G'].append(0)\n",
    "                        self.Q['value'].append(0)\n",
    "                        self.Q['num_of_visit'].append(0)\n",
    "        self.Q = pd.DataFrame(self.Q).set_index(['player_sum', 'dealer_show', 'usable_ace', 'action'])\n",
    "        self.not_visit_Q = (pd.DataFrame.copy(self.Q).rename(columns={'value':'not usable'})+1).astype(bool)[['not usable']]\n",
    "    def start_init(self, dealer_show):\n",
    "        self.sum = 0\n",
    "        self.num_of_ace = 0\n",
    "        self.full_sum = 0\n",
    "        self.usable_ace = False\n",
    "        self.game_way = []\n",
    "        self.dealer_show = dealer_show\n",
    "    def get_action(self):\n",
    "        state = self.not_visit_Q.loc[self.full_sum, self.dealer_show, self.usable_ace]['not usable']\n",
    "        if state.sum()==0:\n",
    "            action = np.random.randint(2)\n",
    "        else:\n",
    "            action = state.values.argmax()\n",
    "        self.not_visit_Q.loc[self.full_sum, self.dealer_show, self.usable_ace, action] = False\n",
    "        self.Q.loc[(self.full_sum, self.dealer_show, self.usable_ace, action), 'num_of_visit'] += 1\n",
    "        self.game_way.append((self.full_sum, self.dealer_show, self.usable_ace, action))\n",
    "        return action\n",
    "    def update(self, card):\n",
    "        if card == 't':\n",
    "            self.num_of_ace += 1\n",
    "        else:\n",
    "            self.sum += card\n",
    "        self.full_sum = self.sum + self.num_of_ace * 11\n",
    "        if self.full_sum > 21 and self.num_of_ace != 0:\n",
    "            self.full_sum = self.sum + self.num_of_ace * 1\n",
    "        if self.num_of_ace == 1:\n",
    "            self.usable_ace = True\n",
    "        else:\n",
    "            self.usable_ace = False\n",
    "    def get_reward(self, r):\n",
    "        if r != 0:\n",
    "            for action in self.game_way:\n",
    "                self.Q.loc[action,'G'] += r\n",
    "                self.Q.loc[action,'value'] = self.Q.loc[action,'G']/self.Q.loc[action,'num_of_visit']\n",
    "\n",
    "class Dealer():\n",
    "    def __init__(self):\n",
    "        self.sum = 0\n",
    "        self.num_of_ace = 0\n",
    "        self.full_sum = 0\n",
    "    def update(self, card):\n",
    "        if card == 't':\n",
    "            self.num_of_ace += 1\n",
    "        else:\n",
    "            self.sum += card\n",
    "        self.full_sum = self.sum + self.num_of_ace * 11\n",
    "        if self.full_sum > 21 and self.num_of_ace != 0:\n",
    "            self.full_sum = self.sum + self.num_of_ace * 1\n",
    "\n",
    "def geniration_card():\n",
    "    card = np.random.randint(2, 14, 1)[0]\n",
    "    if (card >10) and (card<14):\n",
    "        return 10\n",
    "    elif card == 14:\n",
    "        return 't'\n",
    "    else:\n",
    "        return card\n",
    "\n",
    "def game(agent):\n",
    "    #раздаем диллеру\n",
    "    dealer = Dealer()\n",
    "    dealer_open_card = geniration_card()\n",
    "    dealer.update(dealer_open_card)\n",
    "    dealer.update(geniration_card())\n",
    "    #показываем одну карту игроку\n",
    "    if dealer_open_card == 't':\n",
    "        agent.start_init(11)\n",
    "    else:\n",
    "        agent.start_init(dealer_open_card)\n",
    "    #раздаем игрока\n",
    "    agent.update(geniration_card())\n",
    "    agent.update(geniration_card())\n",
    "    #Не имеет смысла т.к. не использует стратегии\n",
    "    if agent.full_sum == 21 or dealer.full_sum == 21:\n",
    "        return 0\n",
    "    #Игрок набирает\n",
    "    while True:\n",
    "        action = agent.get_action()\n",
    "        if action == 0:\n",
    "            break\n",
    "        else:\n",
    "            agent.update(geniration_card())\n",
    "        if agent.full_sum > 21:\n",
    "            return -1\n",
    "    #Дилер набирает\n",
    "    while dealer.full_sum < 17:\n",
    "        dealer.update(dealer_open_card)\n",
    "    #Сравниваем\n",
    "    if agent.full_sum == 21 or agent.full_sum > dealer.full_sum:\n",
    "        return 1\n",
    "    elif agent.full_sum == dealer.full_sum:\n",
    "        return 0\n",
    "    else:\n",
    "        return -1\n",
    "def fit(agent, num_of_epoch, game_for_epoch):\n",
    "    for epoch in tqdm(range(1, num_of_epoch + 1)):\n",
    "        for _ in range(game_for_epoch):\n",
    "            result = game(agent)\n",
    "            agent.get_reward(result)"
   ]
  },
  {
   "cell_type": "code",
   "execution_count": 3,
   "metadata": {},
   "outputs": [],
   "source": [
    "agent = Agent()"
   ]
  },
  {
   "cell_type": "code",
   "execution_count": 4,
   "metadata": {},
   "outputs": [
    {
     "name": "stderr",
     "output_type": "stream",
     "text": [
      "  0%|                                                | 0/20000 [00:00<?, ?it/s]C:\\ProgramData\\Anaconda3\\lib\\site-packages\\ipykernel_launcher.py:31: PerformanceWarning: indexing past lexsort depth may impact performance.\n",
      "100%|██████████████████████████████████| 20000/20000 [4:09:01<00:00,  1.68it/s]\n"
     ]
    }
   ],
   "source": [
    "fit(agent, 20000, 100)"
   ]
  },
  {
   "cell_type": "code",
   "execution_count": 5,
   "metadata": {},
   "outputs": [
    {
     "data": {
      "text/plain": [
       "-9073.0"
      ]
     },
     "execution_count": 5,
     "metadata": {},
     "output_type": "execute_result"
    }
   ],
   "source": [
    "agent.Q.loc[(14, 9, False, 0),'G']"
   ]
  },
  {
   "cell_type": "code",
   "execution_count": 6,
   "metadata": {},
   "outputs": [],
   "source": [
    "import seaborn as sns"
   ]
  },
  {
   "cell_type": "code",
   "execution_count": 7,
   "metadata": {},
   "outputs": [
    {
     "data": {
      "text/plain": [
       "<matplotlib.axes._subplots.AxesSubplot at 0xb389160>"
      ]
     },
     "execution_count": 7,
     "metadata": {},
     "output_type": "execute_result"
    },
    {
     "data": {
      "image/png": "[encoded data removed]",
      "text/plain": [
       "<Figure size 432x288 with 2 Axes>"
      ]
     },
     "metadata": {
      "needs_background": "light"
     },
     "output_type": "display_data"
    }
   ],
   "source": [
    "sns.heatmap(agent.Q.loc[np.arange(4,22),:,False].groupby(['player_sum','dealer_show']).mean()[['value']].unstack(level=1))"
   ]
  },
  {
   "cell_type": "markdown",
   "metadata": {},
   "source": [
    "Вместо трехмерного графика изображен heatmap. Видно, что ценность интересующих нас состояний увеличивается при приближении к \"выигрышу\", но для более точно картины нужно больше итераций"
   ]
  },
  {
   "cell_type": "code",
   "execution_count": null,
   "metadata": {},
   "outputs": [],
   "source": []
  }
 ],
 "metadata": {
  "kernelspec": {
   "display_name": "Python 3",
   "language": "python",
   "name": "python3"
  },
  "language_info": {
   "codemirror_mode": {
    "name": "ipython",
    "version": 3
   },
   "file_extension": ".py",
   "mimetype": "text/x-python",
   "name": "python",
   "nbconvert_exporter": "python",
   "pygments_lexer": "ipython3",
   "version": "3.7.3"
  }
 },
 "nbformat": 4,
 "nbformat_minor": 2
}
